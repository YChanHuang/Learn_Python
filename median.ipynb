{
 "metadata": {
  "language_info": {
   "codemirror_mode": {
    "name": "ipython",
    "version": 3
   },
   "file_extension": ".py",
   "mimetype": "text/x-python",
   "name": "python",
   "nbconvert_exporter": "python",
   "pygments_lexer": "ipython3",
   "version": "3.8.1-final"
  },
  "orig_nbformat": 2,
  "kernelspec": {
   "name": "python3",
   "display_name": "Python 3",
   "language": "python"
  }
 },
 "nbformat": 4,
 "nbformat_minor": 2,
 "cells": [
  {
   "cell_type": "code",
   "execution_count": 27,
   "metadata": {},
   "outputs": [],
   "source": [
    "# get the median\n",
    "def get_median(data):\n",
    "    data = sorted(data) # order the numbers in list\n",
    "    size = len(data)\n",
    "    if size % 2 == 0: # To check if the list has a even length\n",
    "        median = (data[size // 2] + data[size // 2 - 1]) / 2\n",
    "        # data[0] = median\n",
    "    else:\n",
    "    # elif size % 2 == 1:\n",
    "        median = data[(size-1)//2]\n",
    "        # data[0] = median\n",
    "    return int(median)\n",
    "\n"
   ]
  },
  {
   "cell_type": "code",
   "execution_count": 28,
   "metadata": {},
   "outputs": [
    {
     "output_type": "execute_result",
     "data": {
      "text/plain": [
       "6"
      ]
     },
     "metadata": {},
     "execution_count": 28
    }
   ],
   "source": [
    "x = (1,3,5,39,7,8, 42,336, 99, 86,3, 3,3,3)\n",
    "get_median(x)"
   ]
  },
  {
   "cell_type": "code",
   "execution_count": null,
   "metadata": {},
   "outputs": [],
   "source": [
    "# Get the mode\n",
    "\n"
   ]
  }
 ]
}