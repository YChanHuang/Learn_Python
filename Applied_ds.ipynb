{
 "metadata": {
  "language_info": {
   "codemirror_mode": {
    "name": "ipython",
    "version": 3
   },
   "file_extension": ".py",
   "mimetype": "text/x-python",
   "name": "python",
   "nbconvert_exporter": "python",
   "pygments_lexer": "ipython3",
   "version": "3.8.1-final"
  },
  "orig_nbformat": 2,
  "kernelspec": {
   "name": "python3",
   "display_name": "Python 3"
  }
 },
 "nbformat": 4,
 "nbformat_minor": 2,
 "cells": [
  {
   "cell_type": "code",
   "execution_count": 1,
   "metadata": {},
   "outputs": [
    {
     "output_type": "stream",
     "name": "stdout",
     "text": [
      "['bat', 'bot']\n"
     ]
    }
   ],
   "source": [
    "import re\n",
    "string = 'bat, lat, mat, bet, let, met, bit, lit, mit, bot, lot, mot'\n",
    "result = re.findall('b[ao]t', string)\n",
    "print(result)\n"
   ]
  },
  {
   "cell_type": "code",
   "execution_count": 7,
   "metadata": {},
   "outputs": [],
   "source": [
    "def l2_dist(a, b):\n",
    "    result = ((a - b) * (a - b)).sum()\n",
    "    result = result ** 0.5\n",
    "    return result\n",
    "    "
   ]
  },
  {
   "cell_type": "code",
   "execution_count": 15,
   "metadata": {},
   "outputs": [
    {
     "output_type": "stream",
     "name": "stdout",
     "text": [
      "[[ 2 27 74 30 85 69 70 86 71  5 18 46 29 99 94 17 86 24 54 81]\n [ 8 86 52 76 11 84 26 84 98 77 76 10 80 42 51 29 48 94 26 17]\n [ 7 30 44  8 85 28 63 67 51 41 26 35 13 85  1 83 88 73 77 35]\n [64  5  6 48 39 39 62  5 57 38 82 30 84 91 99  1 22  0 26 58]\n [92 90 77 58  9 69  3 42 37 33 48 88 81 85 14  0 66 13 23 48]\n [97 32 83 68 13 19 57 20 94 49  1 85 44 86 41 70 68 20 75 84]\n [40 84 61 47 72 25 72 76 82 53 58  5 47 75 81 22  1 79 22 49]\n [95 48 79 57 18 23  7 47 19 33 54 12 98 56 47 38  7 29 76 88]\n [95 86 31 95  5 15 28  9 81 77 56 54 77  5 31 27 27 76 87 39]\n [89  3 88 91 34 93 17 23 23 22 95 16 85 40 71 43 30 25 89  2]\n [26 89  2  8 63 88 40 23 97 53 80 70 72 68 41  8 85 42  4 61]\n [18 81 75 94 59 18 43  2 60 63 32 69 29 87 90 52 42 97 61 29]\n [33  4 29 37 14 97 88  0  8 65 64 80 66  1  5 11 14 73  1 12]\n [85 19 96 45 41 73 41 17 37  6 10 34 78 79 89 25 72 48 42 48]\n [77 43 81  7 42 54 14 39 30 85 65 75 79 95 17 98 38 26 35 29]\n [31 23 67  7 91 52 34 57 76 72 58 37 18 14 28 56 70 36 45 92]\n [99 10  9 16 20 16 35 83 69 33 37 74 21 99 89 77  4 83 97 88]\n [54 53 97 73 33 88  4 73 48 24 86 88 29 91 68 58 98 27 75 85]\n [86 73 57 79 96 33  1 92 86 59 89 43 35 54  4 58  9 28 22 23]\n [53 31 48 96 45 47 51 78 91 74 69 19 15 41 56 21 64 13 30 55]]\n[[229 242 185  12 249  73 136 108 208 154 140 221  19 142 223  96 174  53\n  206  96]\n [109 242   7 220 176 187  99 105 179 114  68  19 185  93  77  95 122 295\n  218  33]\n [240 219 131  97 264  42 130 212  54 100  88  47  92 152 233  84 179 159\n   87 246]\n [275   6  15 236 295 135  77 260 103 180 265 164 105  21 275  80  70 229\n  100  91]\n [ 39 220 243  12  44 184 201 103  12 104 171  87  89  31  98 191 213 200\n   18  93]\n [276 206 191 241  24  61 176 140 115 148 277 124  28  14 218 296  38  13\n  222  99]\n [ 98 164  80 274  13 204 169 223 173  13 252 168 281 104  37 101 233 155\n  256 175]\n [102 126  98  24 114  88 276 115  97  75 145 251 121   2 158 164 150 200\n   53 159]\n [252 108  97  93  47 181 273  58 229 140  76 194 212 291 291  30  94 191\n   69 254]\n [146 193 154 168 286  49 298 191 243  35 237 142 261 234 255 251 130   4\n  251 283]\n [153 174 230 290 153 148 182 211 240 177  25 148 256 178 158 222  97  77\n  110  11]\n [ 11 148 276 266 169  93  56  48  14 292   8 175   0 223   0 210 202 227\n   36 150]\n [ 83 266  84 146 276  19  75 161 204  14  73 273 105 174  72 265 258 214\n  105  80]\n [117 248  92 151 231  18   8 243  41 271 160 293 136  19 152 133  83 160\n  224 213]\n [ 19 235 221 140 207 283 162   2  88  80  62 121  18 216 258 163  30 152\n  135  70]\n [194 243 197 289  21 245 198 117 139 161 164 238 151   0  19 145  61 193\n  268  65]\n [107 202  18 122 178 297 135 275  75 132 122 232 271  11 133 141 156  96\n   75 118]\n [193 254 124  69 119 282  26 231 132 115 158 178 187 115  19  93  79 298\n   91 151]\n [ 58 288   6 217  98  80 228 107  87 165 266  94 248 253 261  82 102   1\n  280 235]\n [105   6  26 285  66 289  64 183 237 202 258 237 185 110 179 224   7 258\n   66  10]]\n"
     ]
    }
   ],
   "source": [
    "from numpy import random\n",
    "import numpy as np\n",
    "\n",
    "a = random.randint(100, size = (20, 20))\n",
    "b = random.randint(300, size = (20, 20))\n",
    "print(a)\n",
    "print(b)"
   ]
  },
  {
   "cell_type": "code",
   "execution_count": 29,
   "metadata": {},
   "outputs": [
    {
     "output_type": "stream",
     "name": "stdout",
     "text": [
      "[1 2 3]\n"
     ]
    }
   ],
   "source": [
    "np.random.seed(5652341)\n",
    "a1 = np.random.rand(4)\n",
    "a2 = np.random.rand(4, 1)\n",
    "a3 = np.array([[1, 2, 3, 4]])\n",
    "a4 = np.arange(1, 4, 1)\n",
    "a5 = np.linspace(1 ,4, 4)\n",
    "# print(a1)\n",
    "# print(a2)\n",
    "# print(a3)\n",
    "# print(a4)\n",
    "# print(a5)"
   ]
  },
  {
   "cell_type": "code",
   "execution_count": 25,
   "metadata": {},
   "outputs": [
    {
     "output_type": "stream",
     "name": "stdout",
     "text": [
      "(4, 1)\n(4, 1)\n(1, 4)\n(3,)\n(4,)\n"
     ]
    }
   ],
   "source": [
    "print(a1.shape)\n",
    "print(a2.shape)\n",
    "print(a3.shape)\n",
    "print(a4.shape)\n",
    "print(a5.shape)"
   ]
  },
  {
   "cell_type": "code",
   "execution_count": 26,
   "metadata": {},
   "outputs": [
    {
     "output_type": "execute_result",
     "data": {
      "text/plain": [
       "False"
      ]
     },
     "metadata": {},
     "execution_count": 26
    }
   ],
   "source": [
    "a5.shape == a1.shape"
   ]
  },
  {
   "cell_type": "code",
   "execution_count": 30,
   "metadata": {},
   "outputs": [
    {
     "output_type": "stream",
     "name": "stdout",
     "text": [
      "[[0 0 1]\n [1 1 1]]\n"
     ]
    }
   ],
   "source": [
    "import numpy as np\n",
    "\n",
    "old = np.array([[1, 1, 1], [1, 1, 1]])\n",
    "new = old\n",
    "new[0, :2] = 0\n",
    "print(old)"
   ]
  },
  {
   "cell_type": "code",
   "execution_count": 34,
   "metadata": {},
   "outputs": [
    {
     "output_type": "execute_result",
     "data": {
      "text/plain": [
       "['A']"
      ]
     },
     "metadata": {},
     "execution_count": 34
    }
   ],
   "source": [
    "import re\n",
    "s = 'ACBCAC'\n",
    "re.findall('^AC', s)"
   ]
  },
  {
   "cell_type": "code",
   "execution_count": 39,
   "metadata": {},
   "outputs": [
    {
     "output_type": "stream",
     "name": "stdout",
     "text": [
      "['A', 'AA', 'AA', 'AA', 'A']\n"
     ]
    }
   ],
   "source": [
    "import re\n",
    "\n",
    "s = 'ACAABAACAAAB'\n",
    "result = re.findall('A{1,2}', s)\n",
    "L = len(result)\n",
    "\n",
    "print(result)\n",
    "\n",
    "\n"
   ]
  },
  {
   "cell_type": "code",
   "execution_count": 42,
   "metadata": {},
   "outputs": [
    {
     "output_type": "error",
     "ename": "SyntaxError",
     "evalue": "EOL while scanning string literal (<ipython-input-42-e3d2fea10c41>, line 1)",
     "traceback": [
      "\u001b[0;36m  File \u001b[0;32m\"<ipython-input-42-e3d2fea10c41>\"\u001b[0;36m, line \u001b[0;32m1\u001b[0m\n\u001b[0;31m    phone = \"Office of Research Administration: (734) 647-6333 | 4325 North Quad\u001b[0m\n\u001b[0m                                                                                ^\u001b[0m\n\u001b[0;31mSyntaxError\u001b[0m\u001b[0;31m:\u001b[0m EOL while scanning string literal\n"
     ]
    }
   ],
   "source": [
    "phone = \"Office of Research Administration: (734) 647-6333 | 4325 North Quad\n",
    "Office of Budget and Financial Administration: (734) 647-8044 | 309 Maynard, Suite 205\n",
    "Health Informatics Program: (734) 763-2285 | 333 Maynard, Suite 500\n",
    "Office of the Dean: (734) 647-3576 | 4322 North Quad\n",
    "UMSI Engagement Center: (734) 763-1251 | 777 North University\n",
    "Faculty Adminstrative Support Staff: (734) 764-9376 | 4322 North Quad\""
   ]
  },
  {
   "cell_type": "code",
   "execution_count": 47,
   "metadata": {},
   "outputs": [
    {
     "output_type": "stream",
     "name": "stdout",
     "text": [
      "4\n"
     ]
    }
   ],
   "source": [
    "text=r'''Everyone has the following fundamental freedoms:\n",
    "(a) freedom of conscience and religion;\n",
    "(b) freedom of thought, belief, opinion and expression, including freedom of the press and other media of communication;\n",
    "(c) freedom of peaceful assembly; and\n",
    "(d) freedom of association.\n",
    "'''\n",
    "\n",
    "import re\n",
    "\n",
    "pattern = '\\(.\\)'\n",
    "print(len(re.findall(pattern,text)))"
   ]
  },
  {
   "cell_type": "code",
   "execution_count": null,
   "metadata": {},
   "outputs": [],
   "source": []
  }
 ]
}