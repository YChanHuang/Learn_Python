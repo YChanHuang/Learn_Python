{
 "metadata": {
  "language_info": {
   "codemirror_mode": {
    "name": "ipython",
    "version": 3
   },
   "file_extension": ".py",
   "mimetype": "text/x-python",
   "name": "python",
   "nbconvert_exporter": "python",
   "pygments_lexer": "ipython3",
   "version": 3
  },
  "orig_nbformat": 2
 },
 "nbformat": 4,
 "nbformat_minor": 2,
 "cells": [
  {
   "source": [
    "RegEx usage"
   ],
   "cell_type": "markdown",
   "metadata": {}
  },
  {
   "cell_type": "code",
   "execution_count": null,
   "metadata": {},
   "outputs": [],
   "source": [
    "import re # import the module"
   ]
  },
  {
   "cell_type": "code",
   "execution_count": null,
   "metadata": {},
   "outputs": [],
   "source": [
    "# pattern starts with r\n",
    "# For example r\"sss\"\n",
    "# sss is the pattern"
   ]
  },
  {
   "source": [
    "- `[A-Z]` : Capital A-Z\n",
    "- `[a-z]` : Lower case a-z\n",
    "- `[0-9]`"
   ],
   "cell_type": "markdown",
   "metadata": {}
  }
 ]
}