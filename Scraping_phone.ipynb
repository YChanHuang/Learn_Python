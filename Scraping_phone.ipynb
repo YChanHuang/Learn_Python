{
 "cells": [
  {
   "cell_type": "markdown",
   "metadata": {},
   "source": [
    "## Scrapy method"
   ]
  },
  {
   "cell_type": "code",
   "execution_count": 15,
   "metadata": {},
   "outputs": [],
   "source": [
    "from scrapy import Selector\n",
    "import requests"
   ]
  },
  {
   "cell_type": "code",
   "execution_count": 13,
   "metadata": {
    "collapsed": true,
    "jupyter": {
     "outputs_hidden": true
    }
   },
   "outputs": [
    {
     "ename": "TypeError",
     "evalue": "'module' object is not callable",
     "output_type": "error",
     "traceback": [
      "\u001b[0;31m---------------------------------------------------------------------------\u001b[0m",
      "\u001b[0;31mTypeError\u001b[0m                                 Traceback (most recent call last)",
      "\u001b[0;32m<ipython-input-13-e31521bbe84e>\u001b[0m in \u001b[0;36m<module>\u001b[0;34m\u001b[0m\n\u001b[1;32m      1\u001b[0m \u001b[0murl\u001b[0m \u001b[0;34m=\u001b[0m \u001b[0;34m'https://www.gsmarena.com/samsung_galaxy_f41-10498.php'\u001b[0m\u001b[0;34m\u001b[0m\u001b[0;34m\u001b[0m\u001b[0m\n\u001b[1;32m      2\u001b[0m \u001b[0mhtml\u001b[0m \u001b[0;34m=\u001b[0m \u001b[0mrequests\u001b[0m\u001b[0;34m.\u001b[0m\u001b[0mget\u001b[0m\u001b[0;34m(\u001b[0m\u001b[0murl\u001b[0m\u001b[0;34m)\u001b[0m\u001b[0;34m.\u001b[0m\u001b[0mcontent\u001b[0m\u001b[0;34m\u001b[0m\u001b[0;34m\u001b[0m\u001b[0m\n\u001b[0;32m----> 3\u001b[0;31m \u001b[0msel\u001b[0m \u001b[0;34m=\u001b[0m \u001b[0mselector\u001b[0m\u001b[0;34m(\u001b[0m\u001b[0mtext\u001b[0m \u001b[0;34m=\u001b[0m \u001b[0mhtml\u001b[0m\u001b[0;34m)\u001b[0m\u001b[0;34m\u001b[0m\u001b[0;34m\u001b[0m\u001b[0m\n\u001b[0m\u001b[1;32m      4\u001b[0m \u001b[0mprint\u001b[0m\u001b[0;34m(\u001b[0m \u001b[0;34m\"You have found: \"\u001b[0m\u001b[0;34m,\u001b[0m \u001b[0mlen\u001b[0m\u001b[0;34m(\u001b[0m \u001b[0msel\u001b[0m\u001b[0;34m.\u001b[0m\u001b[0mxpath\u001b[0m\u001b[0;34m(\u001b[0m\u001b[0;34m'//*'\u001b[0m\u001b[0;34m)\u001b[0m \u001b[0;34m)\u001b[0m \u001b[0;34m)\u001b[0m\u001b[0;34m\u001b[0m\u001b[0;34m\u001b[0m\u001b[0m\n",
      "\u001b[0;31mTypeError\u001b[0m: 'module' object is not callable"
     ]
    }
   ],
   "source": [
    "url = 'https://www.gsmarena.com/samsung_galaxy_f41-10498.php'\n",
    "html = requests.get(url).content\n"
   ]
  },
  {
   "cell_type": "code",
   "execution_count": 16,
   "metadata": {},
   "outputs": [
    {
     "name": "stdout",
     "output_type": "stream",
     "text": [
      "You have found:  723\n"
     ]
    }
   ],
   "source": [
    "sel = Selector(text = html)\n",
    "print( \"You have found: \", len( sel.xpath('//*') ) )"
   ]
  },
  {
   "cell_type": "markdown",
   "metadata": {},
   "source": [
    "## URLLIB"
   ]
  },
  {
   "cell_type": "code",
   "execution_count": 2,
   "metadata": {},
   "outputs": [],
   "source": [
    "import urllib.request as request\n",
    "import ssl \n",
    "url = 'https://www.gsmarena.com/samsung-phones-9.php'\n",
    "# set up a request object including request headers information\n",
    "webrequest = request.Request(url, headers = {\n",
    "    \"User-Agent\" : 'Mozilla/5.0 (Macintosh; Intel Mac OS X 10_14_6) AppleWebKit/537.36 (KHTML, like Gecko) Chrome/87.0.4280.101 Safari/537.36'\n",
    "})\n",
    "\n",
    "with request.urlopen(webrequest) as response:\n",
    "    data = response.read().decode('utf-8')\n",
    "# print(data)"
   ]
  },
  {
   "cell_type": "code",
   "execution_count": 1,
   "metadata": {},
   "outputs": [
    {
     "ename": "NameError",
     "evalue": "name 'data' is not defined",
     "output_type": "error",
     "traceback": [
      "\u001b[0;31m---------------------------------------------------------------------------\u001b[0m",
      "\u001b[0;31mNameError\u001b[0m                                 Traceback (most recent call last)",
      "\u001b[0;32m<ipython-input-1-67fc073fd3e0>\u001b[0m in \u001b[0;36m<module>\u001b[0;34m\u001b[0m\n\u001b[1;32m      1\u001b[0m \u001b[0;31m# Parsing html format into usable data\u001b[0m\u001b[0;34m\u001b[0m\u001b[0;34m\u001b[0m\u001b[0;34m\u001b[0m\u001b[0m\n\u001b[1;32m      2\u001b[0m \u001b[0;32mfrom\u001b[0m \u001b[0mbs4\u001b[0m \u001b[0;32mimport\u001b[0m \u001b[0mBeautifulSoup\u001b[0m\u001b[0;34m\u001b[0m\u001b[0;34m\u001b[0m\u001b[0m\n\u001b[0;32m----> 3\u001b[0;31m \u001b[0mroot\u001b[0m \u001b[0;34m=\u001b[0m \u001b[0mBeautifulSoup\u001b[0m\u001b[0;34m(\u001b[0m\u001b[0mdata\u001b[0m\u001b[0;34m,\u001b[0m \u001b[0;34m'html.parser'\u001b[0m\u001b[0;34m)\u001b[0m\u001b[0;34m\u001b[0m\u001b[0;34m\u001b[0m\u001b[0m\n\u001b[0m\u001b[1;32m      4\u001b[0m \u001b[0mtitles\u001b[0m \u001b[0;34m=\u001b[0m \u001b[0mroot\u001b[0m\u001b[0;34m.\u001b[0m\u001b[0mfind\u001b[0m\u001b[0;34m(\u001b[0m\u001b[0;34m\"div\"\u001b[0m\u001b[0;34m,\u001b[0m \u001b[0mclass_\u001b[0m \u001b[0;34m=\u001b[0m \u001b[0;34m'title'\u001b[0m\u001b[0;34m)\u001b[0m\u001b[0;34m\u001b[0m\u001b[0;34m\u001b[0m\u001b[0m\n\u001b[1;32m      5\u001b[0m \u001b[0mprint\u001b[0m\u001b[0;34m(\u001b[0m\u001b[0mtitles\u001b[0m\u001b[0;34m)\u001b[0m\u001b[0;34m\u001b[0m\u001b[0;34m\u001b[0m\u001b[0m\n",
      "\u001b[0;31mNameError\u001b[0m: name 'data' is not defined"
     ]
    }
   ],
   "source": [
    "# Parsing html format into usable data\n",
    "from bs4 import BeautifulSoup\n",
    "root = BeautifulSoup(data, 'html.parser')\n",
    "titles = root.find(\"div\", class_ = 'title')\n",
    "print(titles)"
   ]
  },
  {
   "cell_type": "code",
   "execution_count": null,
   "metadata": {},
   "outputs": [],
   "source": []
  },
  {
   "cell_type": "markdown",
   "metadata": {},
   "source": [
    "# Multi links scraping"
   ]
  },
  {
   "cell_type": "code",
   "execution_count": 23,
   "metadata": {},
   "outputs": [],
   "source": [
    "from bs4 import BeautifulSoup\n",
    "import urllib.request as urlopen\n",
    "import ssl \n",
    "import re\n",
    "\n",
    "base_url = 'https://www.gsmarena.com/samsung-phones-9.php'\n",
    "webrequest = request.Request(url, headers = {\n",
    "    \"User-Agent\" : 'Mozilla/5.0 (Macintosh; Intel Mac OS X 10_14_6) AppleWebKit/537.36 (KHTML, like Gecko) Chrome/87.0.4280.101 Safari/537.36'\n",
    "})"
   ]
  },
  {
   "cell_type": "code",
   "execution_count": 35,
   "metadata": {},
   "outputs": [
    {
     "name": "stdout",
     "output_type": "stream",
     "text": [
      "[<a href=\"samsung-phones-f-9-0-r1-p1.php\"><i class=\"head-icon icon-popularity\"></i>Popularity</a>, <a href=\"samsung_galaxy_a12-10604.php\"><img src=\"https://fdn2.gsmarena.com/vv/bigpic/samsung-galaxy-a12-sm-a125.jpg\" title=\"Samsung Galaxy A12 Android smartphone. Announced Nov 2020. Features 6.5″  display, MT6765 Helio P35 chipset, 5000 mAh battery, 128 GB storage, 6 GB RAM.\"/><strong><span>Galaxy A12</span></strong></a>, <a href=\"samsung_galaxy_a02s-10603.php\"><img src=\"https://fdn2.gsmarena.com/vv/bigpic/samsung-galaxy-a02s-sm-a025-new.jpg\" title=\"Samsung Galaxy A02s Android smartphone. Announced Nov 2020. Features 6.5″  display, Snapdragon 450 chipset, 5000 mAh battery, 32 GB storage, 3 GB RAM.\"/><strong><span>Galaxy A02s</span></strong></a>, <a href=\"samsung_galaxy_m21s-10580.php\"><img src=\"https://fdn2.gsmarena.com/vv/bigpic/samsung-galaxy-m21s.jpg\" title=\"Samsung Galaxy M21s Android smartphone. Announced Nov 2020. Features 6.4″  display, Exynos 9611 chipset, 6000 mAh battery, 64 GB storage, 4 GB RAM, Corning Gorilla Glass 3.\"/><strong><span>Galaxy M21s</span></strong></a>, <a href=\"samsung_galaxy_m31_prime-10496.php\"><img src=\"https://fdn2.gsmarena.com/vv/bigpic/samsung-galaxy-m31-sm-m315f.jpg\" title=\"Samsung Galaxy M31 Prime Android smartphone. Announced Oct 2020. Features 6.4″  display, Exynos 9611 chipset, 6000 mAh battery, 128 GB storage, 6 GB RAM, Corning Gorilla Glass 3.\"/><strong><span>Galaxy M31 Prime</span></strong></a>, <a href=\"samsung_galaxy_f41-10498.php\"><img src=\"https://fdn2.gsmarena.com/vv/bigpic/samsung-galaxy-f41-sm-f415fds.jpg\" title=\"Samsung Galaxy F41 Android smartphone. Announced Oct 2020. Features 6.4″  display, Exynos 9611 chipset, 6000 mAh battery, 128 GB storage, 6 GB RAM.\"/><strong><span>Galaxy F41</span></strong></a>, <a href=\"samsung_galaxy_tab_active3-10476.php\"><img src=\"https://fdn2.gsmarena.com/vv/bigpic/samsung-galaxy-tab-active3.jpg\" title=\"Samsung Galaxy Tab Active3 Android tablet. Announced Sep 2020. Features 8.0″  display, Exynos 9810 chipset, 5050 mAh battery, 128 GB storage, 4 GB RAM, MIL-STD-810H compliant.\"/><strong><span>Galaxy Tab Active3</span></strong></a>, <a href=\"samsung_galaxy_s20_fe_5g-10377.php\"><img src=\"https://fdn2.gsmarena.com/vv/bigpic/samsung-galaxy-s20-fe-5g.jpg\" title=\"Samsung Galaxy S20 FE 5G Android smartphone. Announced Sep 2020. Features 6.5″  display, Snapdragon 865 chipset, 4500 mAh battery, 256 GB storage, 8 GB RAM.\"/><strong><span>Galaxy S20 FE 5G</span></strong></a>, <a href=\"samsung_galaxy_s20_fe-10428.php\"><img src=\"https://fdn2.gsmarena.com/vv/bigpic/samsung-galaxy-s20-fe-4g.jpg\" title=\"Samsung Galaxy S20 FE Android smartphone. Announced Sep 2020. Features 6.5″  display, Exynos 990 chipset, 4500 mAh battery, 256 GB storage, 8 GB RAM.\"/><strong><span>Galaxy S20 FE</span></strong></a>, <a href=\"samsung_galaxy_a42_5g-10412.php\"><img src=\"https://fdn2.gsmarena.com/vv/bigpic/samsung-galaxy-a42-5g.jpg\" title=\"Samsung Galaxy A42 5G Android smartphone. Announced Sep 2020. Features 6.6″  display, Snapdragon 750 5G chipset, 5000 mAh battery, 128 GB storage, 8 GB RAM.\"/><strong><span>Galaxy A42 5G</span></strong></a>, <a href=\"samsung_galaxy_tab_a7_10_4_(2020)-10411.php\"><img src=\"https://fdn2.gsmarena.com/vv/bigpic/samsung-galaxy-tab-a7-104-2020.jpg\" title=\"Samsung Galaxy Tab A7 10.4 (2020) Android tablet. Announced Sep 2020. Features 10.4″  display, Snapdragon 662 chipset, 7040 mAh battery, 64 GB storage, 3 GB RAM.\"/><strong><span>Galaxy Tab A7 10.4 (2020)</span></strong></a>, <a href=\"samsung_galaxy_m51-10148.php\"><img src=\"https://fdn2.gsmarena.com/vv/bigpic/samsung-galaxy-m51.jpg\" title=\"Samsung Galaxy M51 Android smartphone. Announced Aug 2020. Features 6.7″  display, Snapdragon 730G chipset, 7000 mAh battery, 128 GB storage, 8 GB RAM, Corning Gorilla Glass 3+.\"/><strong><span>Galaxy M51</span></strong></a>, <a href=\"samsung_galaxy_a51_5g_uw-10371.php\"><img src=\"https://fdn2.gsmarena.com/vv/bigpic/samsung-galaxy-a51-5g-uw.jpg\" title=\"Samsung Galaxy A51 5G UW Android smartphone. Announced Aug 2020. Features 6.5″  display, Snapdragon 765G chipset, 4500 mAh battery, 128 GB storage, 6 GB RAM, Corning Gorilla Glass 3.\"/><strong><span>Galaxy A51 5G UW</span></strong></a>, <a href=\"samsung_galaxy_z_fold2_5g-10342.php\"><img src=\"https://fdn2.gsmarena.com/vv/bigpic/samsung-galaxy-z-fold2-5g.jpg\" title=\"Samsung Galaxy Z Fold2 5G Android smartphone. Announced Aug 2020. Features 7.6″  display, Snapdragon 865+ chipset, 4500 mAh battery, 512 GB storage, 12 GB RAM.\"/><strong><span>Galaxy Z Fold2 5G</span></strong></a>, <a href=\"samsung_galaxy_note20_ultra_5g-10261.php\"><img src=\"https://fdn2.gsmarena.com/vv/bigpic/samsung-galaxy-note20-ultra-.jpg\" title=\"Samsung Galaxy Note20 Ultra 5G Android smartphone. Announced Aug 2020. Features 6.9″  display, Exynos 990 chipset, 4500 mAh battery, 512 GB storage, 12 GB RAM, Corning Gorilla Glass Victus.\"/><strong><span>Galaxy Note20 Ultra 5G</span></strong></a>, <a href=\"samsung_galaxy_note20_ultra-10355.php\"><img src=\"https://fdn2.gsmarena.com/vv/bigpic/samsung-galaxy-note20-ultra-.jpg\" title=\"Samsung Galaxy Note20 Ultra Android smartphone. Announced Aug 2020. Features 6.9″  display, Exynos 990 chipset, 4500 mAh battery, 512 GB storage, 8 GB RAM, Corning Gorilla Glass Victus.\"/><strong><span>Galaxy Note20 Ultra</span></strong></a>, <a href=\"samsung_galaxy_note20_5g-10325.php\"><img src=\"https://fdn2.gsmarena.com/vv/bigpic/samsung-galaxy-note20-5g-r.jpg\" title=\"Samsung Galaxy Note20 5G Android smartphone. Announced Aug 2020. Features 6.7″  display, Exynos 990 chipset, 4300 mAh battery, 256 GB storage, 8 GB RAM, Corning Gorilla Glass 5.\"/><strong><span>Galaxy Note20 5G</span></strong></a>, <a href=\"samsung_galaxy_note20-10338.php\"><img src=\"https://fdn2.gsmarena.com/vv/bigpic/samsung-galaxy-note20-5g-r.jpg\" title=\"Samsung Galaxy Note20 Android smartphone. Announced Aug 2020. Features 6.7″  display, Exynos 990 chipset, 4300 mAh battery, 256 GB storage, 8 GB RAM, Corning Gorilla Glass 5.\"/><strong><span>Galaxy Note20</span></strong></a>, <a href=\"samsung_galaxy_watch3-10315.php\"><img src=\"https://fdn2.gsmarena.com/vv/bigpic/samsung-galaxy-watch3.jpg\" title=\"Samsung Galaxy Watch3 watch. Announced Aug 2020. Features 1.4″  display, Exynos 9110 chipset, 340 mAh battery, 8 GB storage, 1000 MB RAM, MIL-STD-810G compliant, Corning Gorilla Glass DX.\"/><strong><span>Galaxy Watch3</span></strong></a>, <a href=\"samsung_galaxy_tab_s7+-10336.php\"><img src=\"https://fdn2.gsmarena.com/vv/bigpic/samsung-galaxy-tab-s7-plus1.jpg\" title=\"Samsung Galaxy Tab S7+ Android tablet. Announced Aug 2020. Features 12.4″  display, Snapdragon 865+ chipset, 10090 mAh battery, 512 GB storage, 8 GB RAM.\"/><strong><span>Galaxy Tab S7+</span></strong></a>, <a href=\"samsung_galaxy_tab_s7-10337.php\"><img src=\"https://fdn2.gsmarena.com/vv/bigpic/samsung-galaxy-tab-s7-1.jpg\" title=\"Samsung Galaxy Tab S7 Android tablet. Announced Aug 2020. Features 11.0″  display, Snapdragon 865+ chipset, 8000 mAh battery, 512 GB storage, 8 GB RAM.\"/><strong><span>Galaxy Tab S7</span></strong></a>, <a href=\"samsung_galaxy_z_flip_5g-10244.php\"><img src=\"https://fdn2.gsmarena.com/vv/bigpic/samsung-galaxy-z-flip-5g-mystic-bronze.jpg\" title=\"Samsung Galaxy Z Flip 5G Android smartphone. Announced Jul 2020. Features 6.7″  display, Snapdragon 865+ chipset, 3300 mAh battery, 256 GB storage, 8 GB RAM.\"/><strong><span>Galaxy Z Flip 5G</span></strong></a>, <a href=\"samsung_galaxy_m31s-10333.php\"><img src=\"https://fdn2.gsmarena.com/vv/bigpic/samsung-galaxy-m31s.jpg\" title=\"Samsung Galaxy M31s Android smartphone. Announced Jul 2020. Features 6.5″  display, Exynos 9611 chipset, 6000 mAh battery, 128 GB storage, 8 GB RAM, Corning Gorilla Glass 3.\"/><strong><span>Galaxy M31s</span></strong></a>, <a href=\"samsung_galaxy_m01s-10335.php\"><img src=\"https://fdn2.gsmarena.com/vv/bigpic/samsung-galaxy-m01s-m017f.jpg\" title=\"Samsung Galaxy M01s Android smartphone. Announced Jul 2020. Features 6.2″  display, MT6762 Helio P22 chipset, 4000 mAh battery, 32 GB storage, 3 GB RAM.\"/><strong><span>Galaxy M01s</span></strong></a>, <a href=\"samsung_galaxy_m01_core-10316.php\"><img src=\"https://fdn2.gsmarena.com/vv/bigpic/samsung-galaxy-a01core-sm-a013.jpg\" title=\"Samsung Galaxy M01 Core Android smartphone. Announced Jul 2020. Features 5.3″  display, MT6739 chipset, 3000 mAh battery, 32 GB storage, 2 GB RAM.\"/><strong><span>Galaxy M01 Core</span></strong></a>, <a href=\"samsung_galaxy_a01_core-10314.php\"><img src=\"https://fdn2.gsmarena.com/vv/bigpic/samsung-galaxy-a01core-sm-a013.jpg\" title=\"Samsung Galaxy A01 Core Android smartphone. Announced Jul 2020. Features 5.3″  display, MT6739 chipset, 3000 mAh battery, 32 GB storage, 2 GB RAM.\"/><strong><span>Galaxy A01 Core</span></strong></a>, <a href=\"samsung_galaxy_a71_5g_uw-10276.php\"><img src=\"https://fdn2.gsmarena.com/vv/bigpic/samsung-galaxy-a71-5g-uw.jpg\" title=\"Samsung Galaxy A71 5G UW Android smartphone. Announced Jul 2020. Features 6.7″  display, Snapdragon 765G chipset, 4500 mAh battery, 128 GB storage, 8 GB RAM, Corning Gorilla Glass 3.\"/><strong><span>Galaxy A71 5G UW</span></strong></a>, <a href=\"samsung_galaxy_m01-10216.php\"><img src=\"https://fdn2.gsmarena.com/vv/bigpic/samsung-galaxy-m01.jpg\" title=\"Samsung Galaxy M01 Android smartphone. Announced Jun 2020. Features 5.7″  display, Snapdragon 439 chipset, 4000 mAh battery, 32 GB storage, 3 GB RAM.\"/><strong><span>Galaxy M01</span></strong></a>, <a href=\"samsung_galaxy_a21s-10239.php\"><img src=\"https://fdn2.gsmarena.com/vv/bigpic/samsung-galaxy-a21s-.jpg\" title=\"Samsung Galaxy A21s Android smartphone. Announced May 2020. Features 6.5″  display, Exynos 850 chipset, 5000 mAh battery, 128 GB storage, 6 GB RAM.\"/><strong><span>Galaxy A21s</span></strong></a>, <a href=\"samsung_galaxy_j2_core_(2020)-10208.php\"><img src=\"https://fdn2.gsmarena.com/vv/bigpic/samsung-galaxy-j2-core-2020.jpg\" title=\"Samsung Galaxy J2 Core (2020) Android smartphone. Announced Apr 2020. Features 5.0″  display, Exynos 7570 Quad chipset, 2600 mAh battery, 16 GB storage, 1000 MB RAM.\"/><strong><span>Galaxy J2 Core (2020)</span></strong></a>, <a href=\"samsung_galaxy_a_quantum-10243.php\"><img src=\"https://fdn2.gsmarena.com/vv/bigpic/samsung-galaxy-a71-5g.jpg\" title=\"Samsung Galaxy A Quantum Android smartphone. Announced May 2020. Features 6.7″  display, Exynos 980, QRNG security chipset chipset, 4500 mAh battery, 128 GB storage, 8 GB RAM, Corning Gorilla Glass 3.\"/><strong><span>Galaxy A Quantum</span></strong></a>, <a href=\"samsung_galaxy_a71_5g-10146.php\"><img src=\"https://fdn2.gsmarena.com/vv/bigpic/samsung-galaxy-a71-5g.jpg\" title=\"Samsung Galaxy A71 5G Android smartphone. Announced Apr 2020. Features 6.7″  display, Exynos 980 chipset, 4500 mAh battery, 128 GB storage, 8 GB RAM, Corning Gorilla Glass 3.\"/><strong><span>Galaxy A71 5G</span></strong></a>, <a href=\"samsung_galaxy_a51_5g-10157.php\"><img src=\"https://fdn2.gsmarena.com/vv/bigpic/samsung-galaxy-a51-5g.jpg\" title=\"Samsung Galaxy A51 5G Android smartphone. Announced Apr 2020. Features 6.5″  display, Exynos 980 chipset, 4500 mAh battery, 128 GB storage, 8 GB RAM, Corning Gorilla Glass 3.\"/><strong><span>Galaxy A51 5G</span></strong></a>, <a href=\"samsung_galaxy_a21-10172.php\"><img src=\"https://fdn2.gsmarena.com/vv/bigpic/samsung-galaxy-a21-r.jpg\" title=\"Samsung Galaxy A21 Android smartphone. Announced Apr 2020. Features 6.5″  display, 4000 mAh battery, 32 GB storage, 3 GB RAM.\"/><strong><span>Galaxy A21</span></strong></a>, <a href=\"samsung_galaxy_tab_a_8_4_(2020)-10483.php\"><img src=\"https://fdn2.gsmarena.com/vv/bigpic/samsung-galaxy-tab-a-84-2020.jpg\" title=\"Samsung Galaxy Tab A 8.4 (2020) Android tablet. Announced Mar 2020. Features 8.4″  display, 5000 mAh battery, 32 GB storage, 3 GB RAM.\"/><strong><span>Galaxy Tab A 8.4 (2020)</span></strong></a>, <a href=\"samsung_galaxy_tab_s6_lite-10158.php\"><img src=\"https://fdn2.gsmarena.com/vv/bigpic/galaxy-tab-s6-lite.jpg\" title=\"Samsung Galaxy Tab S6 Lite Android tablet. Announced Apr 2020. Features 10.4″  display, Exynos 9611 chipset, 7040 mAh battery, 128 GB storage, 4 GB RAM.\"/><strong><span>Galaxy Tab S6 Lite</span></strong></a>, <a href=\"samsung_galaxy_m11-10124.php\"><img src=\"https://fdn2.gsmarena.com/vv/bigpic/samsung-galaxy-m11-sm-m115.jpg\" title=\"Samsung Galaxy M11 Android smartphone. Announced Mar 2020. Features 6.4″  display, Snapdragon 450 chipset, 5000 mAh battery, 64 GB storage, 4 GB RAM.\"/><strong><span>Galaxy M11</span></strong></a>, <a href=\"samsung_galaxy_a31-10149.php\"><img src=\"https://fdn2.gsmarena.com/vv/bigpic/samsung-galaxy-a31.jpg\" title=\"Samsung Galaxy A31 Android smartphone. Announced Mar 2020. Features 6.4″  display, MT6768 Helio P65 chipset, 5000 mAh battery, 128 GB storage, 8 GB RAM.\"/><strong><span>Galaxy A31</span></strong></a>, <a href=\"samsung_galaxy_a41-10138.php\"><img src=\"https://fdn2.gsmarena.com/vv/bigpic/samsung-galaxy-a41.jpg\" title=\"Samsung Galaxy A41 Android smartphone. Announced Mar 2020. Features 6.1″  display, MT6768 Helio P65 chipset, 3500 mAh battery, 64 GB storage, 4 GB RAM.\"/><strong><span>Galaxy A41</span></strong></a>, <a href=\"samsung_galaxy_m21-10111.php\"><img src=\"https://fdn2.gsmarena.com/vv/bigpic/samsung-galaxy-m21.jpg\" title=\"Samsung Galaxy M21 Android smartphone. Announced Mar 2020. Features 6.4″  display, Exynos 9611 chipset, 6000 mAh battery, 128 GB storage, 6 GB RAM, Corning Gorilla Glass 3.\"/><strong><span>Galaxy M21</span></strong></a>, <a href=\"samsung_galaxy_a11-10132.php\"><img src=\"https://fdn2.gsmarena.com/vv/bigpic/samsung-galaxy-a11.jpg\" title=\"Samsung Galaxy A11 Android smartphone. Announced Mar 2020. Features 6.4″  display, Snapdragon 450 chipset, 4000 mAh battery, 64 GB storage, 3 GB RAM.\"/><strong><span>Galaxy A11</span></strong></a>, <a href=\"samsung_galaxy_m31-10079.php\"><img src=\"https://fdn2.gsmarena.com/vv/bigpic/samsung-galaxy-m31-sm-m315f.jpg\" title=\"Samsung Galaxy M31 Android smartphone. Announced Feb 2020. Features 6.4″  display, Exynos 9611 chipset, 6000 mAh battery, 128 GB storage, 8 GB RAM, Corning Gorilla Glass 3.\"/><strong><span>Galaxy M31</span></strong></a>, <a href=\"samsung_galaxy_s20_ultra_5g-10040.php\"><img src=\"https://fdn2.gsmarena.com/vv/bigpic/samsung-galaxy-s20-ultra-.jpg\" title=\"Samsung Galaxy S20 Ultra 5G Android smartphone. Announced Feb 2020. Features 6.9″  display, Exynos 990 chipset, 5000 mAh battery, 512 GB storage, 16 GB RAM, Corning Gorilla Glass 6.\"/><strong><span>Galaxy S20 Ultra 5G</span></strong></a>, <a href=\"samsung_galaxy_s20_ultra-10084.php\"><img src=\"https://fdn2.gsmarena.com/vv/bigpic/samsung-galaxy-s20-ultra-.jpg\" title=\"Samsung Galaxy S20 Ultra Android smartphone. Announced Feb 2020. Features 6.9″  display, Exynos 990 chipset, 5000 mAh battery, 128 GB storage, 12 GB RAM, Corning Gorilla Glass 6.\"/><strong><span>Galaxy S20 Ultra</span></strong></a>, <a href=\"samsung_galaxy_s20+_5g-10041.php\"><img src=\"https://fdn2.gsmarena.com/vv/bigpic/samsung-galaxy-s20-plus.jpg\" title=\"Samsung Galaxy S20+ 5G Android smartphone. Announced Feb 2020. Features 6.7″  display, Exynos 990 chipset, 4500 mAh battery, 512 GB storage, 12 GB RAM, Corning Gorilla Glass 6.\"/><strong><span>Galaxy S20+ 5G</span></strong></a>, <a href=\"samsung_galaxy_s20+-10080.php\"><img src=\"https://fdn2.gsmarena.com/vv/bigpic/samsung-galaxy-s20-plus.jpg\" title=\"Samsung Galaxy S20+ Android smartphone. Announced Feb 2020. Features 6.7″  display, Exynos 990 chipset, 4500 mAh battery, 128 GB storage, 8 GB RAM, Corning Gorilla Glass 6.\"/><strong><span>Galaxy S20+</span></strong></a>, <a href=\"samsung_galaxy_s20_5g_uw-10254.php\"><img src=\"https://fdn2.gsmarena.com/vv/bigpic/samsung-galaxy-s20-.jpg\" title=\"Samsung Galaxy S20 5G UW Android smartphone. Announced May 2020. Features 6.2″  display, Snapdragon 865 chipset, 4000 mAh battery, 128 GB storage, 8 GB RAM, Corning Gorilla Glass 6.\"/><strong><span>Galaxy S20 5G UW</span></strong></a>, <a href=\"samsung_galaxy_s20_5g-10044.php\"><img src=\"https://fdn2.gsmarena.com/vv/bigpic/samsung-galaxy-s20-.jpg\" title=\"Samsung Galaxy S20 5G Android smartphone. Announced Feb 2020. Features 6.2″  display, Exynos 990 chipset, 4000 mAh battery, 128 GB storage, 12 GB RAM, Corning Gorilla Glass 6.\"/><strong><span>Galaxy S20 5G</span></strong></a>, <a href=\"samsung_galaxy_s20-10081.php\"><img src=\"https://fdn2.gsmarena.com/vv/bigpic/samsung-galaxy-s20-.jpg\" title=\"Samsung Galaxy S20 Android smartphone. Announced Feb 2020. Features 6.2″  display, Exynos 990 chipset, 4000 mAh battery, 128 GB storage, 8 GB RAM, Corning Gorilla Glass 6.\"/><strong><span>Galaxy S20</span></strong></a>, <a href=\"samsung_galaxy_z_flip-10054.php\"><img src=\"https://fdn2.gsmarena.com/vv/bigpic/samsung-galaxy-z-flip-01.jpg\" title=\"Samsung Galaxy Z Flip Android smartphone. Announced Feb 2020. Features 6.7″  display, Snapdragon 855+ chipset, 3300 mAh battery, 256 GB storage, 8 GB RAM.\"/><strong><span>Galaxy Z Flip</span></strong></a>, <a href=\"samsung_galaxy_tab_s6_5g-10004.php\"><img src=\"https://fdn2.gsmarena.com/vv/bigpic/samsung-galaxy-tab-s6-5g-sm-t866n.jpg\" title=\"Samsung Galaxy Tab S6 5G Android tablet. Announced Jan 2020. Features 10.5″  display, Snapdragon 855+ chipset, 7040 mAh battery, 128 GB storage, 6 GB RAM.\"/><strong><span>Galaxy Tab S6 5G</span></strong></a>, <a href=\"samsung_galaxy_xcover_pro-10001.php\"><img src=\"https://fdn2.gsmarena.com/vv/bigpic/samsung-galaxy-xcover-pro-.jpg\" title=\"Samsung Galaxy Xcover Pro Android smartphone. Announced Jan 2020. Features 6.3″  display, Exynos 9611 chipset, 4050 mAh battery, 64 GB storage, 4 GB RAM, MIL-STD-810G compliant, Corning Gorilla Glass 5.\"/><strong><span>Galaxy Xcover Pro</span></strong></a>, <a href=\"samsung_galaxy_note10_lite-10003.php\"><img src=\"https://fdn2.gsmarena.com/vv/bigpic/sasmung-galaxy-note10-lite-r.jpg\" title=\"Samsung Galaxy Note10 Lite Android smartphone. Announced Jan 2020. Features 6.7″  display, Exynos 9810 chipset, 4500 mAh battery, 128 GB storage, 8 GB RAM, Gorilla Glass 3.\"/><strong><span>Galaxy Note10 Lite</span></strong></a>, <a href=\"samsung_galaxy_s10_lite-9917.php\"><img src=\"https://fdn2.gsmarena.com/vv/bigpic/sasmung-galaxy-s10-lite-.jpg\" title=\"Samsung Galaxy S10 Lite Android smartphone. Announced Jan 2020. Features 6.7″  display, Snapdragon 855 chipset, 4500 mAh battery, 512 GB storage, 8 GB RAM, Corning Gorilla Glass 3+.\"/><strong><span>Galaxy S10 Lite</span></strong></a>, <a href=\"samsung_galaxy_a01-9999.php\"><img src=\"https://fdn2.gsmarena.com/vv/bigpic/samsung-galaxy-a01.jpg\" title=\"Samsung Galaxy A01 Android smartphone. Announced Dec 2019. Features 5.7″  display, Snapdragon 439 chipset, 3000 mAh battery, 32 GB storage, 2 GB RAM.\"/><strong><span>Galaxy A01</span></strong></a>, <a href=\"samsung_galaxy_a71-9995.php\"><img src=\"https://fdn2.gsmarena.com/vv/bigpic/samsung-galaxy-a71.jpg\" title=\"Samsung Galaxy A71 Android smartphone. Announced Dec 2019. Features 6.7″  display, Snapdragon 730 chipset, 4500 mAh battery, 128 GB storage, 8 GB RAM, Corning Gorilla Glass 3.\"/><strong><span>Galaxy A71</span></strong></a>, <a href=\"samsung_galaxy_a51-9963.php\"><img src=\"https://fdn2.gsmarena.com/vv/bigpic/samsung-galaxy-a51-sm-a515.jpg\" title=\"Samsung Galaxy A51 Android smartphone. Announced Dec 2019. Features 6.5″  display, Exynos 9611 chipset, 4000 mAh battery, 128 GB storage, 8 GB RAM, Corning Gorilla Glass 3.\"/><strong><span>Galaxy A51</span></strong></a>, <a href=\"samsung_galaxy_xcover_fieldpro-9937.php\"><img src=\"https://fdn2.gsmarena.com/vv/bigpic/samsung-galaxy-xcover-fieldpro-sm-g889f.jpg\" title=\"Samsung Galaxy Xcover FieldPro Android smartphone. Announced Oct 2019. Features 5.1″  display, Exynos 9810 chipset, 4500 mAh battery, 64 GB storage, 4 GB RAM, MIL-STD-810G compliant.\"/><strong><span>Galaxy Xcover FieldPro</span></strong></a>, <a href=\"samsung_galaxy_a70s-9899.php\"><img src=\"https://fdn2.gsmarena.com/vv/bigpic/samsung-galaxy-a70s-.jpg\" title=\"Samsung Galaxy A70s Android smartphone. Announced Sep 2019. Features 6.7″  display, Snapdragon 675 chipset, 4500 mAh battery, 128 GB storage, 8 GB RAM, Corning Gorilla Glass (unspecified).\"/><strong><span>Galaxy A70s</span></strong></a>, <a href=\"samsung_galaxy_a20s-9852.php\"><img src=\"https://fdn2.gsmarena.com/vv/bigpic/samsung-galaxy-a20s-sm-a207.jpg\" title=\"Samsung Galaxy A20s Android smartphone. Announced Sep 2019. Features 6.5″  display, Snapdragon 450 chipset, 4000 mAh battery, 64 GB storage, 4 GB RAM.\"/><strong><span>Galaxy A20s</span></strong></a>, <a href=\"samsung_galaxy_m30s-9818.php\"><img src=\"https://fdn2.gsmarena.com/vv/bigpic/samsung-galaxy-m30s-.jpg\" title=\"Samsung Galaxy M30s Android smartphone. Announced Sep 2019. Features 6.4″  display, Exynos 9611 chipset, 6000 mAh battery, 128 GB storage, 6 GB RAM.\"/><strong><span>Galaxy M30s</span></strong></a>, <a href=\"samsung_galaxy_m10s-9861.php\"><img src=\"https://fdn2.gsmarena.com/vv/bigpic/samsung-galaxy-m10s-m107f.jpg\" title=\"Samsung Galaxy M10s Android smartphone. Announced Sep 2019. Features 6.4″  display, Exynos 7884B chipset, 4000 mAh battery, 32 GB storage, 3 GB RAM.\"/><strong><span>Galaxy M10s</span></strong></a>, <a href=\"samsung_galaxy_fold_5g-9851.php\"><img src=\"https://fdn2.gsmarena.com/vv/bigpic/samsung-galaxy-fold-5g.jpg\" title=\"Samsung Galaxy Fold 5G Android smartphone. Announced Feb 2019. Features 7.3″  display, Snapdragon 855 chipset, 4235 mAh battery, 512 GB storage, 12 GB RAM.\"/><strong><span>Galaxy Fold 5G</span></strong></a>, <a href=\"samsung_galaxy_fold-9523.php\"><img src=\"https://fdn2.gsmarena.com/vv/bigpic/samsung-galaxy-fold.jpg\" title=\"Samsung Galaxy Fold Android smartphone. Announced Feb 2019. Features 7.3″  display, Snapdragon 855 chipset, 4380 mAh battery, 512 GB storage, 12 GB RAM.\"/><strong><span>Galaxy Fold</span></strong></a>, <a href=\"samsung_galaxy_tab_active_pro-9850.php\"><img src=\"https://fdn2.gsmarena.com/vv/bigpic/samsung-galaxy-tab-active-pro-sm-t547.jpg\" title=\"Samsung Galaxy Tab Active Pro Android tablet. Announced Sep 2019. Features 10.1″  display, Snapdragon 670 chipset, 7600 mAh battery, 64 GB storage, 4 GB RAM, MIL-STD-810G compliant.\"/><strong><span>Galaxy Tab Active Pro</span></strong></a>, <a href=\"samsung_galaxy_a90_5g-9795.php\"><img src=\"https://fdn2.gsmarena.com/vv/bigpic/samsung-galaxy-a90-5g.jpg\" title=\"Samsung Galaxy A90 5G Android smartphone. Announced Sep 2019. Features 6.7″  display, Snapdragon 855 chipset, 4500 mAh battery, 128 GB storage, 8 GB RAM, Corning Gorilla Glass 6.\"/><strong><span>Galaxy A90 5G</span></strong></a>, <a href=\"samsung_galaxy_a30s-9796.php\"><img src=\"https://fdn2.gsmarena.com/vv/bigpic/samsung-galaxy-a30s.jpg\" title=\"Samsung Galaxy A30s Android smartphone. Announced Aug 2019. Features 6.4″  display, Exynos 7904 chipset, 4000 mAh battery, 128 GB storage, 4 GB RAM, Unspecified.\"/><strong><span>Galaxy A30s</span></strong></a>, <a href=\"samsung_galaxy_a50s-9806.php\"><img src=\"https://fdn2.gsmarena.com/vv/bigpic/samsung-galaxy-a50s.jpg\" title=\"Samsung Galaxy A50s Android smartphone. Announced Aug 2019. Features 6.4″  display, Exynos 9611 chipset, 4000 mAh battery, 128 GB storage, 6 GB RAM, Corning Gorilla Glass 3.\"/><strong><span>Galaxy A50s</span></strong></a>, <a href=\"samsung_galaxy_note10+_5g-9787.php\"><img src=\"https://fdn2.gsmarena.com/vv/bigpic/samsung-galaxy-note10-plus-.jpg\" title=\"Samsung Galaxy Note10+ 5G Android smartphone. Announced Aug 2019. Features 6.8″  display, Exynos 9825 chipset, 4300 mAh battery, 512 GB storage, 12 GB RAM, Corning Gorilla Glass 6.\"/><strong><span>Galaxy Note10+ 5G</span></strong></a>, <a href=\"samsung_galaxy_note10+-9732.php\"><img src=\"https://fdn2.gsmarena.com/vv/bigpic/samsung-galaxy-note10-plus-.jpg\" title=\"Samsung Galaxy Note10+ Android smartphone. Announced Aug 2019. Features 6.8″  display, Exynos 9825 chipset, 4300 mAh battery, 512 GB storage, 12 GB RAM, Corning Gorilla Glass 6.\"/><strong><span>Galaxy Note10+</span></strong></a>, <a href=\"samsung_galaxy_note10_5g-9789.php\"><img src=\"https://fdn2.gsmarena.com/vv/bigpic/samsung-galaxy-note10-.jpg\" title=\"Samsung Galaxy Note10 5G Android smartphone. Announced Aug 2019. Features 6.3″  display, Exynos 9825 chipset, 3500 mAh battery, 256 GB storage, 12 GB RAM, Corning Gorilla Glass 6.\"/><strong><span>Galaxy Note10 5G</span></strong></a>, <a href=\"samsung_galaxy_note10-9788.php\"><img src=\"https://fdn2.gsmarena.com/vv/bigpic/samsung-galaxy-note10-.jpg\" title=\"Samsung Galaxy Note10 Android smartphone. Announced Aug 2019. Features 6.3″  display, Exynos 9825 chipset, 3500 mAh battery, 256 GB storage, 8 GB RAM, Corning Gorilla Glass 6.\"/><strong><span>Galaxy Note10</span></strong></a>, <a href=\"samsung_galaxy_watch_active2-9784.php\"><img src=\"https://fdn2.gsmarena.com/vv/bigpic/samsung-galaxy-watch-active2-stainless-steel.jpg\" title=\"Samsung Galaxy Watch Active2 watch. Announced Aug 2019. Features 1.4″  display, Exynos 9110 chipset, 340 mAh battery, 4 GB storage, 1.5 GB RAM, MIL-STD-810G compliant, Corning Gorilla Glass DX+.\"/><strong><span>Galaxy Watch Active2</span></strong></a>, <a href=\"samsung_galaxy_watch_active2_aluminum-9786.php\"><img src=\"https://fdn2.gsmarena.com/vv/bigpic/samsung-galaxy-watch-active2-.jpg\" title=\"Samsung Galaxy Watch Active2 Aluminum watch. Announced Aug 2019. Features 1.4″  display, Exynos 9110 chipset, 340 mAh battery, 4 GB storage, 768 MB RAM, MIL-STD-810G compliant, Corning Gorilla Glass DX+.\"/><strong><span>Galaxy Watch Active2 Aluminum</span></strong></a>, <a href=\"samsung_galaxy_a10s-9793.php\"><img src=\"https://fdn2.gsmarena.com/vv/bigpic/samsung-galaxy-a10s.jpg\" title=\"Samsung Galaxy A10s Android smartphone. Announced Aug 2019. Features 6.2″  display, MT6762 Helio P22 chipset, 4000 mAh battery, 32 GB storage, 3 GB RAM.\"/><strong><span>Galaxy A10s</span></strong></a>, <a href=\"samsung_galaxy_a10e-9790.php\"><img src=\"https://fdn2.gsmarena.com/vv/bigpic/samsung-galaxy-a10e-sm-a102u.jpg\" title=\"Samsung Galaxy A10e Android smartphone. Announced Jul 2019. Features 5.83″  display, Exynos 7884 chipset, 3000 mAh battery, 32 GB storage, 2 GB RAM.\"/><strong><span>Galaxy A10e</span></strong></a>, <a href=\"samsung_galaxy_tab_s6-9781.php\"><img src=\"https://fdn2.gsmarena.com/vv/bigpic/samsung-galaxy-tab-s6.jpg\" title=\"Samsung Galaxy Tab S6 Android tablet. Announced Jul 2019. Features 10.5″  display, Snapdragon 855 chipset, 7040 mAh battery, 256 GB storage, 8 GB RAM.\"/><strong><span>Galaxy Tab S6</span></strong></a>, <a href=\"samsung_galaxy_tab_a_8_0_(2019)-9760.php\"><img src=\"https://fdn2.gsmarena.com/vv/bigpic/samsung-galaxy-tab-a-80-2019-r.jpg\" title=\"Samsung Galaxy Tab A 8.0 (2019) Android tablet. Announced Jul 2019. Features 8.0″  display, Snapdragon 429 chipset, 5100 mAh battery, 32 GB storage, 2 GB RAM.\"/><strong><span>Galaxy Tab A 8.0 (2019)</span></strong></a>, <a href=\"samsung_galaxy_xcover_4s-9730.php\"><img src=\"https://fdn2.gsmarena.com/vv/bigpic/samsung-galaxy-xcover-4s-sm-g398.jpg\" title=\"Samsung Galaxy Xcover 4s Android smartphone. Announced Jun 2019. Features 5.0″  display, Exynos 7885 chipset, 2800 mAh battery, 32 GB storage, 3 GB RAM, MIL-STD-810G compliant.\"/><strong><span>Galaxy Xcover 4s</span></strong></a>, <a href=\"samsung_galaxy_a2_core-9636.php\"><img src=\"https://fdn2.gsmarena.com/vv/bigpic/samsung-galaxy-a2-core-sm-a260f.jpg\" title=\"Samsung Galaxy A2 Core Android smartphone. Announced Apr 2019. Features 5.0″  display, Exynos 7870 Octa chipset, 2600 mAh battery, 16 GB storage, 1000 MB RAM.\"/><strong><span>Galaxy A2 Core</span></strong></a>, <a href=\"samsung_galaxy_watch_active-9589.php\"><img src=\"https://fdn2.gsmarena.com/vv/bigpic/samsung-galaxy-watch-active.jpg\" title=\"Samsung Galaxy Watch Active watch. Announced Feb 2019. Features 1.1″  display, Exynos 9110 chipset, 230 mAh battery, 4 GB storage, 768 MB RAM, MIL-STD-810G compliant, Corning Gorilla Glass 3.\"/><strong><span>Galaxy Watch Active</span></strong></a>, <a href=\"samsung_galaxy_view2-9672.php\"><img src=\"https://fdn2.gsmarena.com/vv/bigpic/samsung-galaxy-view2-sm-t927--.jpg\" title=\"Samsung Galaxy View2 Android tablet. Announced Apr 2019. Features 17.3″  display, Exynos 7884 chipset, 12000 mAh battery, 64 GB storage, 3 GB RAM.\"/><strong><span>Galaxy View2</span></strong></a>, <a href=\"samsung_galaxy_s10_5g-9588.php\"><img src=\"https://fdn2.gsmarena.com/vv/bigpic/samsung-galaxy-s10-5g.jpg\" title=\"Samsung Galaxy S10 5G Android smartphone. Announced Feb 2019. Features 6.7″  display, Exynos 9820 chipset, 4500 mAh battery, 512 GB storage, 8 GB RAM, Corning Gorilla Glass 6.\"/><strong><span>Galaxy S10 5G</span></strong></a>, <a href=\"samsung_galaxy_s10+-9535.php\"><img src=\"https://fdn2.gsmarena.com/vv/bigpic/samsung-galaxy-s10-plus-new.jpg\" title=\"Samsung Galaxy S10+ Android smartphone. Announced Feb 2019. Features 6.4″  display, Exynos 9820 chipset, 4100 mAh battery, 1024 GB storage, 12 GB RAM, Corning Gorilla Glass 6.\"/><strong><span>Galaxy S10+</span></strong></a>, <a href=\"samsung_galaxy_s10-9536.php\"><img src=\"https://fdn2.gsmarena.com/vv/bigpic/samsung-galaxy-s10.jpg\" title=\"Samsung Galaxy S10 Android smartphone. Announced Feb 2019. Features 6.1″  display, Exynos 9820 chipset, 3400 mAh battery, 512 GB storage, 8 GB RAM, Corning Gorilla Glass 6.\"/><strong><span>Galaxy S10</span></strong></a>, <a href=\"samsung_galaxy_s10e-9537.php\"><img src=\"https://fdn2.gsmarena.com/vv/bigpic/samsung-galaxy-s10e.jpg\" title=\"Samsung Galaxy S10e Android smartphone. Announced Feb 2019. Features 5.8″  display, Exynos 9820 chipset, 3100 mAh battery, 256 GB storage, 8 GB RAM, Corning Gorilla Glass 5.\"/><strong><span>Galaxy S10e</span></strong></a>, <a href=\"samsung-phones-f-9-0-p2.php\">2</a>, <a href=\"samsung-phones-f-9-0-p3.php\">3</a>, <a href=\"samsung-phones-f-9-0-p4.php\">4</a>, <a href=\"samsung-phones-f-9-0-p5.php\">5</a>, <a href=\"samsung-phones-f-9-0-p6.php\">6</a>, <a href=\"samsung-phones-f-9-0-p7.php\">7</a>, <a href=\"samsung-phones-f-9-0-p8.php\">8</a>, <a href=\"samsung-phones-f-9-0-p9.php\">9</a>, <a href=\"samsung-phones-f-9-0-p10.php\">10</a>, <a href=\"samsung-phones-f-9-0-p11.php\">11</a>, <a href=\"samsung-phones-f-9-0-p12.php\">12</a>, <a href=\"samsung-phones-f-9-0-p13.php\">13</a>, <a href=\"samsung-phones-f-9-0-p14.php\">14</a>, <a href=\"samsung-phones-f-9-0-p15.php\">15</a>, <a class=\"pages-next\" href=\"samsung-phones-f-9-0-p2.php\" title=\"Next page\"></a>, <a href=\"samsung-phones-f-9-2.php\" title=\"Show only the phones with status Available\">Available</a>, <a href=\"samsung-phones-f-9-3.php\" title=\"Show only the not yet released phones\">Coming soon</a>, <a href=\"samsung-phones-f-9-10.php\" title=\"Show only the smartphones\">Smartphone</a>, <a href=\"samsung-phones-f-9-13.php\" title=\"Show only the phones with touchscreen display\">Touchscreen</a>, <a href=\"samsung-phones-f-9-4.php\" title=\"Show only the phones with camera\">Camera</a>, <a href=\"samsung-phones-f-9-8.php\" title=\"Show only the phones with Bluetooth\">Bluetooth</a>, <a href=\"samsung-phones-f-9-12.php\" title=\"Show only the phones with Wi-Fi (Wireless LAN)\">Wi-Fi</a>, <a href=\"samsung-phones-f-9-11.php\" title=\"Show only the phones with GPS receiver\">GPS</a>, <a href=\"samsung-phones-f-9-9.php\" title=\"Show only the phones with memory card slot\">Card slot</a>, <a href=\"samsung-phones-9.php\">Samsung</a>, <a class=\"module-reviews-xl-link\" href=\"samsung_galaxy_a42_5g-review-2210.php\">\n",
      "<img alt=\"Samsung Galaxy A42 5G review\" class=\"module-reviews-xl-thumb\" src=\"https://fdn.gsmarena.com/imgroot/reviews/20/samsung-galaxy-a42-5g/-347x151/header-thumb2.jpg\"/>\n",
      "<div class=\"module-review-xl-title\">\n",
      "<strong>Samsung Galaxy A42 5G review</strong>\n",
      "</div>\n",
      "</a>, <a class=\"module-reviews-xl-link\" href=\"samsung_galaxy_m51-review-2206.php\">\n",
      "<img alt=\"Samsung Galaxy M51 review\" class=\"module-reviews-xl-thumb\" src=\"https://fdn.gsmarena.com/imgroot/reviews/20/samsung-galaxy-m51/-347x151/gsmarena_002.jpg\"/>\n",
      "<div class=\"module-review-xl-title\">\n",
      "<strong>Samsung Galaxy M51 review</strong>\n",
      "</div>\n",
      "</a>, <a class=\"module-reviews-xl-link\" href=\"samsung_galaxy_s20_fe_5g-review-2178.php\">\n",
      "<img alt=\"Samsung Galaxy S20 FE 5G review\" class=\"module-reviews-xl-thumb\" src=\"https://fdn.gsmarena.com/imgroot/reviews/20/samsung-galaxy-s20-fe-5g/-347x151/gsmarena_004.jpg\"/>\n",
      "<div class=\"module-review-xl-title\">\n",
      "<strong>Samsung Galaxy S20 FE 5G review</strong>\n",
      "</div>\n",
      "</a>, <a class=\"module-reviews-xl-link\" href=\"samsung_galaxy_z_fold2-review-2164.php\">\n",
      "<img alt=\"Samsung Galaxy Z Fold2 review\" class=\"module-reviews-xl-thumb\" src=\"https://fdn.gsmarena.com/imgroot/reviews/20/samsung-galaxy-z-fold2/-347x151/gsmarena_001.jpg\"/>\n",
      "<div class=\"module-review-xl-title\">\n",
      "<strong>Samsung Galaxy Z Fold2 review</strong>\n",
      "</div>\n",
      "</a>]\n"
     ]
    }
   ],
   "source": [
    "html = request.urlopen(base_url).read().decode('utf-8')\n",
    "soup = BeautifulSoup(html, features = 'lxml')\n",
    "# scraping sub urls\n",
    "sub_urls = soup.find_all('a', {\"href\": re.compile(\"(samsung).+(.php)\")})\n",
    "# https:\\/\\/www\\.gsmarena\\.com\\/samsung.+(.php)\n",
    "print(sub_urls)\n",
    "# print(soup.find('h1').get_text())"
   ]
  },
  {
   "cell_type": "code",
   "execution_count": null,
   "metadata": {},
   "outputs": [],
   "source": []
  }
 ],
 "metadata": {
  "kernelspec": {
   "display_name": "Python 3",
   "language": "python",
   "name": "python3"
  },
  "language_info": {
   "codemirror_mode": {
    "name": "ipython",
    "version": 3
   },
   "file_extension": ".py",
   "mimetype": "text/x-python",
   "name": "python",
   "nbconvert_exporter": "python",
   "pygments_lexer": "ipython3",
   "version": "3.8.3"
  }
 },
 "nbformat": 4,
 "nbformat_minor": 4
}
