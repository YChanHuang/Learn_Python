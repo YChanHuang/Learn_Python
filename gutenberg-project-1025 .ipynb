{
 "cells": [
  {
   "cell_type": "code",
   "execution_count": 4,
   "metadata": {},
   "outputs": [],
   "source": [
    "import requests\n",
    "import re\n",
    "import os\n",
    "import time\n",
    "from bs4 import BeautifulSoup\n",
    "\n",
    "url = 'https://www.gutenberg.org/browse/languages/zh'\n",
    "\n",
    "res = requests.get(url)\n",
    "\n",
    "#指定解析器\n",
    "soup = BeautifulSoup(res.text, 'lxml')\n",
    "\n",
    "#放書名的list\n",
    "all_ebooks_titles = []\n",
    "#放內容的list\n",
    "all_ebooks_contents = []\n"
   ]
  },
  {
   "cell_type": "code",
   "execution_count": 23,
   "metadata": {},
   "outputs": [
    {
     "name": "stdout",
     "output_type": "stream",
     "text": [
      "['豆棚閒話', '戲中戲', '比目魚', '比目魚', '三字經', '山水情', '山海經', '施公案', '施公案', '易經', '木蘭奇女傳', '海公案', '燕丹子', '狄公案', '百家姓', '禮記', '綠牡丹', '詩經', '麟兒報', 'Hu Die Mei\\rYuan Yang Meng', 'Qing Lou MengQi Hong Xiao Shi', '天豹圖', '梁公九諫', '長恨歌', '李娃傳', '玉樓春', '漢書', '引鳳蕭', '今古奇觀', '後西游記', '飛跎全傳', '佛說四十二章經', '紅樓夢', '洛神賦', '晁氏儒言 一卷', '水滸後傳', '幼學瓊林', '治世餘聞', '琵琶記', '雪月梅傳', '龍川詞', '三國志', '隋唐演義', '論語', '滬語開路 = Conversational Exercises in the Shanghai Dialect', '白圭志', '孟子字義疏證', '安樂集', '鄧析子', '醉醒石', '唐鍾馗平鬼傳', '春秋繁露', '虬髯客傳', '吳船錄', '星槎勝覽', '星槎勝覽', '喻世明言', '平妖傳', '東周列國志', '警世通言', '醒世恆言', '封氏聞見記', 'Eight dwelling places of Buddhist immortals', '白圭志', '搜神記', '搜神記 volume 11-14', '搜神記 volume 1-3', '搜神記 volume 15-17', '搜神記 volume 18-20', '搜神記 volume 4-10', '琵琶記', '抱朴子', '西京雜記', '幽明錄', '明鏡公案', '公孫龍子', '竇娥冤', '竇娥寃', '管子', '管子 — Volume 01 : Chapters 1-5', '管子 — Volume 02 : Chapters 6-10', '鬼谷子', '鬼谷子', '穆天子传', '漢武帝別國洞冥記', '日知錄', '海上花列傳', '韩非子', '風月夢', '韓詩外傳', '韓詩外傳, Complete', '韓詩外傳, Vol. 1-2', '韓詩外傳, Vol. 3-4', '韓詩外傳, Vol. 5-6', '韓詩外傳, Vol. 7-8', '韓詩外傳, Vol. 9-10', '唐诗三百首', '長生殿', '菜根譚', '菜根譚前後集', '天豹圖', '筠州黃檗山斷際禪師傳法心要', '山水小牘', '高士傳', '金剛般若波羅蜜經', '天妃顯聖錄', '三略', '明夷待訪錄', '鹽鐵論', '一枕奇', '六祖壇經', '臺灣外紀', '賈誼新書', '金石緣', '閱微草堂筆記', '醒夢駢言', '孔叢子', '小爾雅', '續世說', '桃花扇', '金剛般若波羅蜜經', '補紅樓夢', 'Dao De Jing: A Minimalist Translation', '老子', '道德經', 'Dao De Jing: A Minimalist Translation', 'The Chinese Classics — Volume 1: Confucian Analects', 'The Chinese Classics: with a translation, critical and exegetical notes, prolegomena and copious indexes\\r(Shih ching. English) — Volume 1', 'The Chinese Classics — Volume 1: Confucian Analects', 'The Chinese Classics: with a translation, critical and exegetical notes, prolegomena and copious indexes\\r(Shih ching. English) — Volume 1', '臺灣通史\\r唐山過海的故事', '李太白集', '李太白集', '官場現形記', '官場現形記', '官場現形記', '文明小史', '海公案', '孫子算經', '列子', '脾胃論', '李賀詩選', '文心雕龍', '二刻拍案惊奇', '二刻拍案驚奇', '初刻拍案驚奇', '殺子報', 'True Heart/Mind', 'True Heart/Mind', '天妃顯聖錄', '西海紀遊草', '西海紀遊草', '漱玉詞', '鏡花緣', '鏡花緣', '李義山詩集', '天豹圖', '梁公九諫', '淮南子', '天豹圖', '老殘遊記', '老殘遊記', '老殘遊記續集', 'Wu De Ji', '海島算經', '郁離子', '人物志', '隋唐嘉話', '大唐新語', '列仙傳', '列女傳', '新序', '說苑', '說苑, Volume 13-16', '說苑, Volume 1-4', '說苑, Volume 17-20', '說苑, Volume 5-8', '說苑, Volume 9-12', '文心雕龍', '西京雜記', '舊唐書', '世說新語', '幽明錄', '樂章集', '斬鬼傳', '斬鬼傳', '夢中緣', '合錦回文傳', '無聲戲', '肉蒲團', '閒情偶寄', '闲情偶寄', '弟子規', '天豹圖', '庚巳編', '呻吟語', '三國志演義', '平妖傳', '平妖傳', '殘唐五代史演義傳', '粉妝樓', '粉妝樓1-10回', '粉妝樓11-20回', '粉妝樓21-30回', '粉妝樓31-40回', '粉妝樓41-50回', '粉妝樓51-60回', '粉妝樓61-70回', '粉妝樓71-80回', '粉妝樓全傳', '說唐', '文心雕龍', '常言道', '大唐三藏取經詩話', '六韜', '癡人說夢記', '癡人說夢記', '封神演義', '中國小說史略', '南腔北調集', '吶喊', '徬徨', '朝花夕拾', '狂人日記', '狂人日記', '野草', '阿Ｑ正傳', '文子', '老學庵筆記', '茶經', '茶經', '近思錄', '瀛涯勝覽', '瀛涯勝覽', 'Brief Account of the English Character', 'Brief Account of the English Character', '漢宮秋', '孟子', '東京夢華錄', '白兔記', '好逑傳', '御製廣寒殿記', '墨子', '西湖佳話', 'Brief Account of the English Character', 'Brief Account of the English Character', '癡人福', '公墓', '飲水詞集', '春柳鶯', 'Hu Die Mei\\rYuan Yang Meng', '六一詞', '歸田錄', '三國志', '蜀碧', '九尾狐', '聊齋志異', '醒世姻緣', '南部新書', '東度記', '金雲翹傳', '拾遺記', '負曝閒談', '滬語開路 = Conversational Exercises in the Shanghai Dialect', '燕子箋', '佛說無量壽經', 'True Heart/Mind', 'True Heart/Mind', '蕉葉帕', '商君書', '商子', '俗話傾談', '慎子', '浮生六記', '枕中記', '夢溪筆談', '夢溪筆談, Volume 01-06', '夢溪筆談, Volume 01-26', '夢溪筆談, Volume 07-10', '夢溪筆談, Volume 11-16', '夢溪筆談, Volume 17-21', '夢溪筆談, Volume 22-26', '諧鐸', '六祖壇經', '幽閨記', '水滸傳', '文子', '三俠五義', '史記', '司馬法', '灵历集光', '灵历集光', '莊子的故事', '天工開物', '歸蓮夢', '錦香亭', '杜陽雜編', '斷鴻零雁記', '北夢瑣言', '兵法 (Bīng Fǎ)', '孫子兵法', '孫子算經', '東坡志林', '東坡樂府', '水調歌頭', '蘇洵集', '孫子兵法道家新註解', '牡丹亭', '彭公案', 'Peach Blossom Shangri-la: Tao Hua Yuan Ji', '五孝傳', '搜神後記', '搜神後記. Selections. 1985', 'Peach Blossom Shangri-la: Tao Hua Yuan Ji', '轟天雷', '人間樂', '定情人', '平山冷燕', '玉嬌梨', '玉支机', '玉雙魚', '畫圖緣', '石點頭', '商界現形記', '合錦回文傳', '玉蟾記', '宋史', '周髀算經', '天豹圖', '孔雀東南飛', '孝經', '文子', '明鏡公案', '春秋配', '梁公九諫', '爾雅', '竹書紀年', '黄帝宅經', '大唐三藏取經詩話', '文淵閣四庫全書', '本草備要', '論衡', '魏鄭公諫錄', '人間詞話', '大唐三藏取經詩話', '海國春秋', '拾遺記', '冷眼观', '竹齋集', '西廂記', '豔異編', '分甘余話', '劍俠傳', '池北偶談', '文中子中說', '荀子集解', '豆棚閒話', '醒夢駢言', '傳習錄', '王陽明全集', '三字經', '花外集', '圍爐夜話', '文中子中說', '御製廣寒殿記', '尉繚子', '花月痕', '花月痕', '明月台', '兒女英雄傳', '玉壺淸話', '西遊記', '古文觀止', '青箱雜記', '古文觀止', '海遊記', '駐春園小史', 'Bizarre Happenings Eyewitnessed Over Two Decades', '九命奇冤', '九命奇冤', '二十年目睹之怪現狀', '二十年目睹之怪現狀', '恨海', '情變', '瞎騙奇聞', '胡涂世界', '貞觀政要', '貞觀政要', '中國十大禁書之國色天香', '儒林外史', '楊家將', '明鏡公案', '五色石', '快士傳', '飛龍全傳', '風月鑒', '拾遺記', '古詩十九首', '金瓶梅', '滿江紅', '宛如約', '歡喜冤家', '文子', '八段錦', '辛棄疾詞選', '唐才子傳', '楊家將', '楊家將', '楊家將演義', '夜雨秋燈錄', '雙鳳奇緣', '徐霞客遊記', '玉台新詠', '申鑒', '李太白集', '李太白集', '蘇洵集', '玉梨魂', '韓湘子全傳', '鬼谷四友志', '畫圖緣', '方言', '漢書', '巧聯珠', '幻中游', '滄浪詩話', '顔氏家訓', '顔氏家訓', '顔氏家訓', '顔氏家訓 — Volume 01 and 02', '顔氏家訓 — Volume 03 and 04', '顔氏家訓 — Volume 05 and 06', '顔氏家訓 — Volume 07', '竹葉亭雜記', '豐收', '蘭花夢奇傳', '尹文子', '關尹子', '黃繡球', '鄰女語', '合浦珠', '珍珠舶', '子不語', '續子不語', '隨園詩話', '鶯鶯傳', '青樓夢', '沉沦', '滿江紅', '耳食錄', '桯史', '蜃樓志', '五鳳吟', '警悟鐘', '蕩寇志', '裨海紀遊', '孽海花', '幽夢影', '幽夢影', '幽夢影 — Part 1', '幽夢影 — Part 2', '西湖夢尋', '陶庵夢憶', '列仙傳', '何典', '棋經', '括異志', '杜騙新書', '張載集', '傷寒論', '朝野僉載', '遊仙窟', '遊仙窟', '花間集', '吳越春秋', '甌北詩話', '明皇雜錄', '詩品', '詩品', '周禮', '西湖二集', '千字文', '千字文', '千字文', '雞肋編', '出師表', '牛郎織女傳', '中庸 章句', '大學 章句', '近思錄', '近思錄', '朱子治家格言', '歐遊雜記', '樂章集', 'Qing Lou MengQi Hong Xiao Shi', '狐狸緣全傳', '清代野记', '風流悟', '國語', '左傳']\n"
     ]
    }
   ],
   "source": [
    "text = soup.get_text()\n",
    "# print(text)\n",
    "\n",
    "ebook_title = soup.select('li.pgdbetext a')[0].get_text()\n",
    "\n",
    "#取得每本書名\n",
    "for a in soup.select('li.pgdbetext a'):\n",
    "    a_text = a.get_text()\n",
    "#     print(a_text)\n",
    "    all_ebooks_titles.append(a_text)\n",
    "print(all_ebooks_titles)\n",
    "    \n"
   ]
  },
  {
   "cell_type": "code",
   "execution_count": 5,
   "metadata": {
    "tags": []
   },
   "outputs": [],
   "source": [
    "# 取的每本書url\n",
    "url = 'https://www.gutenberg.org/browse/languages/zh'\n",
    "response = requests.get(url)\n",
    "soup = BeautifulSoup(response.text, 'lxml')\n"
   ]
  },
  {
   "source": [
    "\n",
    "url_lst = []\n",
    "tags = soup.select('li.pgdbetext a') # TO get all the content in <a>\n",
    "for tag in tags:\n",
    "    url_lst.append('https://www.gutenberg.org/'+tag.get('href'))\n",
    "print(url_lst)"
   ],
   "cell_type": "code",
   "metadata": {
    "tags": [
     "outputPrepend"
    ]
   },
   "execution_count": null,
   "outputs": []
  },
  {
   "source": [
    "\n",
    "list_books = []\n",
    "for a in soup.select('li.pgdbetext a'):\n",
    "    list_books.append(\"https://www.gutenberg.org/ebooks/\" + a['href'])\n",
    "    print(list_books)"
   ],
   "cell_type": "code",
   "metadata": {
    "tags": [
     "outputPrepend"
    ]
   },
   "execution_count": 15,
   "outputs": []
  }
 ],
 "metadata": {
  "kernelspec": {
   "display_name": "Python 3",
   "language": "python",
   "name": "python3"
  },
  "language_info": {
   "codemirror_mode": {
    "name": "ipython",
    "version": 3
   },
   "file_extension": ".py",
   "mimetype": "text/x-python",
   "name": "python",
   "nbconvert_exporter": "python",
   "pygments_lexer": "ipython3",
   "version": "3.8.1-final"
  }
 },
 "nbformat": 4,
 "nbformat_minor": 4
}