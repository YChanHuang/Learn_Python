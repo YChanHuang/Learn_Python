{
 "metadata": {
  "language_info": {
   "codemirror_mode": {
    "name": "ipython",
    "version": 3
   },
   "file_extension": ".py",
   "mimetype": "text/x-python",
   "name": "python",
   "nbconvert_exporter": "python",
   "pygments_lexer": "ipython3",
   "version": 3
  },
  "orig_nbformat": 2
 },
 "nbformat": 4,
 "nbformat_minor": 2,
 "cells": [
  {
   "cell_type": "code",
   "execution_count": null,
   "metadata": {},
   "outputs": [],
   "source": [
    "class name():\n",
    "    def _init_(self):\n",
    "    #by setting self to define instance attributes\n",
    "objective = name()\n"
   ]
  },
  {
   "cell_type": "code",
   "execution_count": null,
   "metadata": {},
   "outputs": [],
   "source": [
    "class Point:\n",
    "    def _init_(self):\n",
    "        self.x = 3\n",
    "        self.y = 4\n",
    "    # instance attribute include x and y\n",
    "    p = Point()"
   ]
  }
 ]
}