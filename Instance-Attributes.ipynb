{
 "metadata": {
  "language_info": {
   "codemirror_mode": {
    "name": "ipython",
    "version": 3
   },
   "file_extension": ".py",
   "mimetype": "text/x-python",
   "name": "python",
   "nbconvert_exporter": "python",
   "pygments_lexer": "ipython3",
   "version": "3.8.1-final"
  },
  "orig_nbformat": 2,
  "kernelspec": {
   "name": "python3",
   "display_name": "Python 3",
   "language": "python"
  }
 },
 "nbformat": 4,
 "nbformat_minor": 2,
 "cells": [
  {
   "cell_type": "code",
   "execution_count": null,
   "metadata": {},
   "outputs": [],
   "source": [
    "# 實體物件的建立\n",
    "class name():\n",
    "    def _init_(self):\n",
    "    #by setting self to define instance attributes\n",
    "objective = name()\n"
   ]
  },
  {
   "cell_type": "code",
   "execution_count": null,
   "metadata": {},
   "outputs": [],
   "source": [
    "class Point:\n",
    "    def _init_(self): # self 代表新建立的實體物件\n",
    "        self.x = 3\n",
    "        self.y = 4\n",
    "    # instance attribute include x and y\n",
    "    p = Point()"
   ]
  },
  {
   "cell_type": "code",
   "execution_count": null,
   "metadata": {},
   "outputs": [],
   "source": [
    "class Point:\n",
    "    def _init_(self, x, y): # 初始化函數可以自定義參數\n",
    "        self.x = x\n",
    "        self.y = x\n",
    "    # instance attribute include x and y\n",
    "    p = Point(1, 5) # 1 and 5 會分別放入x, y中  "
   ]
  },
  {
   "cell_type": "code",
   "execution_count": null,
   "metadata": {},
   "outputs": [],
   "source": [
    "#實體物件基本語法\n",
    "class Point:\n",
    "    def _init_(self, x, y): # 初始化函數可以自定義參數\n",
    "        self.x = x\n",
    "        self.y = x\n",
    "    # instance attribute include x and y\n",
    "    p = Point(1, 5) \n",
    "    print(p.x+p.y)"
   ]
  },
  {
   "cell_type": "code",
   "execution_count": 4,
   "metadata": {},
   "outputs": [
    {
     "output_type": "stream",
     "name": "stdout",
     "text": [
      "1 3\n7 9\n"
     ]
    }
   ],
   "source": [
    "# 實體物件的設計\n",
    "class Point:\n",
    "    def __init__(self, x, y):\n",
    "        self.x = x\n",
    "        self.y = y\n",
    "p1 = Point(x = 1, y = 3) # 產生實體物件 並放進變數裡               \n",
    "print(p1.x, p1.y)\n",
    "\n",
    "p2 = Point(x = 7, y = 9) # 可建立多個實體物件\n",
    "print(p2.x, p2.y)"
   ]
  },
  {
   "cell_type": "code",
   "execution_count": 9,
   "metadata": {},
   "outputs": [
    {
     "output_type": "stream",
     "name": "stdout",
     "text": [
      "J.H Goddric\nSt. john\n"
     ]
    }
   ],
   "source": [
    "class FullName:\n",
    "    def __init__(self, first, last):\n",
    "        self.first = first\n",
    "        self.last = last\n",
    "name1 = FullName(first = 'J.H', last = 'Goddric')\n",
    "print(name1.first, name1.last)\n",
    "\n",
    "name2 = FullName(first = 'St.', last = 'john')\n",
    "print(name2.first, name2.last)"
   ]
  },
  {
   "cell_type": "code",
   "execution_count": null,
   "metadata": {},
   "outputs": [],
   "source": [
    "#實體方法\n",
    "#封裝在實體物件的函數\n",
    "\n",
    "class 類別名稱:\n",
    "    #定義初始化函數\n",
    "    def __init__(self):\n",
    "    #定義方法函數\n",
    "    def 方法名稱(self, ) #透過self操作實體物件\n",
    "\n",
    "    "
   ]
  },
  {
   "cell_type": "code",
   "execution_count": null,
   "metadata": {},
   "outputs": [],
   "source": [
    "class Point:\n",
    "    def __init__(self, x, y):\n",
    "        self.x = x \n",
    "        self.y = y\n",
    "    def show(self):\n",
    "        print(self.x, self.y)\n",
    "p = Point(1,5) #呼叫實體物件\n",
    "p.show() # 呼叫實體方法"
   ]
  },
  {
   "cell_type": "code",
   "execution_count": 16,
   "metadata": {},
   "outputs": [
    {
     "output_type": "stream",
     "name": "stdout",
     "text": [
      "3 4\n5.0\n"
     ]
    }
   ],
   "source": [
    "# Poin 實體物件\n",
    "class Point:\n",
    "    def __init__(self, x, y ):\n",
    "        self.x = x\n",
    "        self.y = y\n",
    "    #定義實體方法\n",
    "    def show(self):\n",
    "        print(self.x, self.y)\n",
    "\n",
    "#File 實體物件的設計：包裝檔案讀取的方式\n",
    "\n",
    "    def distance(self, targetX, targetY):\n",
    "        return (((self.x-targetX)**2) + ((self.y-targetY) ** 2))**0.5\n",
    "p = Point(3, 4)\n",
    "p.show() # 呼叫實體方法 / 函數\n",
    "result = p.distance(0, 0) #計算距離 並儲存在result裡面\n",
    "print(result)"
   ]
  },
  {
   "cell_type": "code",
   "execution_count": null,
   "metadata": {},
   "outputs": [],
   "source": [
    "class File:\n",
    "    def __init__(self, name):\n",
    "        self.name = name \n",
    "        self.file = None # Because the file not yet open\n",
    "    def open(self):\n",
    "        self.file = open(self.name, mode = 'r', encoding = 'utf-8')\n",
    "    def read(self):\n",
    "        return self.file.read()\n",
    "f1 = File('data.txt') \n",
    "f1.open()\n",
    "data = f1.read()\n"
   ]
  }
 ]
}