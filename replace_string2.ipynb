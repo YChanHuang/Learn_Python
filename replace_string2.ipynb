{
 "metadata": {
  "language_info": {
   "codemirror_mode": {
    "name": "ipython",
    "version": 3
   },
   "file_extension": ".py",
   "mimetype": "text/x-python",
   "name": "python",
   "nbconvert_exporter": "python",
   "pygments_lexer": "ipython3",
   "version": "3.8.1-final"
  },
  "orig_nbformat": 2,
  "kernelspec": {
   "name": "Python 3.8.1 64-bit",
   "display_name": "Python 3.8.1 64-bit",
   "metadata": {
    "interpreter": {
     "hash": "082e9a3bcad0a290d0001e938aa60b99250c6c2ef33a923c00b70f9826caf4b7"
    }
   }
  }
 },
 "nbformat": 4,
 "nbformat_minor": 2,
 "cells": [
  {
   "cell_type": "code",
   "execution_count": 4,
   "metadata": {},
   "outputs": [],
   "source": [
    "def count_special(n): \n",
    "      \n",
    "    # Stores the answer for a \n",
    "    # particular value of n \n",
    "    fib = [0 for i in range(n + 1)] \n",
    "  \n",
    "    # For n = 0 we have empty string \n",
    "    fib[0] = 1\n",
    "  \n",
    "    # For n = 1 we have \n",
    "    # 2 special strings \n",
    "    fib[1] = 2\n",
    "  \n",
    "    for i in range(2, n + 1, 1): \n",
    "          \n",
    "        # Calculate count of special  \n",
    "        # string of length i \n",
    "        fib[i] = (fib[i - 1] % mod + \n",
    "                  fib[i - 2] % mod) % mod \n",
    "  \n",
    "    # fib[n] stores the count \n",
    "    # of special strings of length n \n",
    "    return fib[n] \n"
   ]
  },
  {
   "cell_type": "code",
   "execution_count": 89,
   "metadata": {},
   "outputs": [],
   "source": [
    "def solution(S):\n",
    "    S = S.replace(\"minus\",\"-\").replace(\"plus\",\"+\")\n",
    "    print(S)\n",
    "    "
   ]
  },
  {
   "cell_type": "code",
   "execution_count": 76,
   "metadata": {},
   "outputs": [],
   "source": [
    "test = \"plusminusminusminusplusplusplusplusminusminus\""
   ]
  },
  {
   "cell_type": "code",
   "execution_count": 83,
   "metadata": {},
   "outputs": [],
   "source": [
    "def solution(S):\n",
    "    s = \"\" \n",
    "    for i in S: \n",
    "        if i == \"minus\": \n",
    "            S.replace(\"minus\",\"-\")\n",
    "        elif i== \"plus\": \n",
    "            S.replace(\"plus\",\"+\")\n",
    "        else: s+i\n",
    "        S = s\n",
    "        print(S)"
   ]
  },
  {
   "cell_type": "code",
   "execution_count": 88,
   "metadata": {},
   "outputs": [
    {
     "output_type": "stream",
     "name": "stdout",
     "text": [
      "+---++++--\n"
     ]
    }
   ],
   "source": [
    "solution(test)\n"
   ]
  },
  {
   "cell_type": "code",
   "execution_count": null,
   "metadata": {},
   "outputs": [],
   "source": []
  }
 ]
}
